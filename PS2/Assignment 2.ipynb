{
 "cells": [
  {
   "cell_type": "markdown",
   "metadata": {},
   "source": [
    "#### Libraries"
   ]
  },
  {
   "cell_type": "code",
   "execution_count": 1,
   "metadata": {},
   "outputs": [],
   "source": [
    "# http://www.eecs.harvard.edu/~michaelm/CS222/assignment2.pdf"
   ]
  },
  {
   "cell_type": "code",
   "execution_count": 2,
   "metadata": {},
   "outputs": [],
   "source": [
    "import numpy as np\n",
    "import pandas as pd\n",
    "import matplotlib.pyplot as plt\n",
    "%matplotlib inline"
   ]
  },
  {
   "cell_type": "code",
   "execution_count": 3,
   "metadata": {},
   "outputs": [],
   "source": [
    "plt.rcParams[\"figure.figsize\"] = [16,9]"
   ]
  },
  {
   "cell_type": "markdown",
   "metadata": {},
   "source": [
    "#### Problem 8: JPG"
   ]
  },
  {
   "cell_type": "code",
   "execution_count": 4,
   "metadata": {},
   "outputs": [],
   "source": [
    "# Inputs\n",
    "img = [[124, 125, 122, 120, 122, 119, 117, 118],\n",
    "       [120, 120, 120, 119, 119, 120, 120, 120],\n",
    "       [125, 124, 123, 122, 121, 120, 119, 118],\n",
    "       [125, 124, 123, 122, 121, 120, 119, 118],\n",
    "       [130, 131, 132, 133, 134, 130, 126, 122],\n",
    "       [140, 137, 137, 133, 133, 137, 135, 130],\n",
    "       [150, 147, 150, 150, 150, 150, 150, 150],\n",
    "       [160, 160, 162, 164, 168, 170, 172, 175]]\n",
    "qnt = [[16, 11, 10, 16, 24,  40,  51,   61],\n",
    "       [12, 12, 14, 19, 26,  58,  60,   55],\n",
    "       [14, 13, 16, 24, 40,  57,  69,   56],\n",
    "       [14, 17, 22, 29, 51,  87,  80,   62],\n",
    "       [18, 22, 37, 56, 68,  109, 103,  77],\n",
    "       [24, 35, 55, 64, 81,  104, 113,  92],\n",
    "       [49, 64, 78, 87, 103, 121, 120, 101],\n",
    "       [72, 92, 95, 98, 112, 100, 103,  99]]\n",
    "img = np.array(img)\n",
    "qnt = np.array(qnt)\n",
    "\n",
    "# Define 2d DCT\n",
    "from scipy.fftpack import dct, idct\n",
    "def dct_2d(block, inverse=False):\n",
    "    if inverse: return idct(idct(block.T, norm='ortho').T, norm='ortho')\n",
    "    else: return dct(dct(block.T, norm='ortho').T, norm='ortho')\n",
    "\n",
    "# Transform\n",
    "cmp = img - 128 # center \n",
    "cmp = dct_2d(cmp) # dct\n",
    "cmp = cmp / qnt # quantize\n",
    "cmp = cmp.round().astype(int) # round down\n",
    "\n",
    "# Decompress \n",
    "dec = cmp.astype(float) * qnt\n",
    "dec = dct_2d(dec, inverse=True)\n",
    "dec = dec.round().astype(int) + 128\n",
    "\n",
    "if False: print(cmp.tolist(), dec.tolist())"
   ]
  },
  {
   "cell_type": "markdown",
   "metadata": {},
   "source": [
    "#### Delta encoding"
   ]
  },
  {
   "cell_type": "code",
   "execution_count": 6,
   "metadata": {},
   "outputs": [
    {
     "name": "stdout",
     "output_type": "stream",
     "text": [
      "[200015, 200015, 200015, 210014, 210014, 210014, 210014, 200015, 200015, 210014]\n"
     ]
    }
   ],
   "source": [
    "# Parameters\n",
    "N = 10000\n",
    "b = 30\n",
    "R = 2**b\n",
    "\n",
    "def get_nums(N, R):\n",
    "    '''Generate random numbers'''\n",
    "    nums = np.random.randint(0, R, size=N, dtype=np.uint32)\n",
    "    nums = np.sort(nums)\n",
    "    return nums\n",
    "\n",
    "def get_difs(N, R):\n",
    "    '''Calculate differences'''\n",
    "    nums = get_nums(N, R)\n",
    "    first_char = nums[0]\n",
    "    difs = nums[1:] - nums[:-1]\n",
    "    return difs\n",
    "    \n",
    "# Part 1\n",
    "trials = []\n",
    "for _ in range(10):\n",
    "    difs = get_difs(N, R)\n",
    "    k = np.ceil(np.log2(np.max(difs)))\n",
    "    space = b + np.ceil(np.log2(b)) + (N-1) * k\n",
    "    trials.append(space)\n",
    "print([int(x) for x in trials])"
   ]
  },
  {
   "cell_type": "code",
   "execution_count": 264,
   "metadata": {},
   "outputs": [],
   "source": [
    "# Part 2: Helper functions\n",
    "def encode(input_string):\n",
    "    '''Run length encoding'''\n",
    "    count = 1\n",
    "    prev = ''\n",
    "    lst = []\n",
    "    for character in input_string:\n",
    "        if character != prev or count > 127:\n",
    "            if prev:\n",
    "                entry = (prev,count)\n",
    "                lst.append(entry)\n",
    "                #print lst\n",
    "            count = 1\n",
    "            prev = character\n",
    "        else:\n",
    "            count += 1\n",
    "    else:\n",
    "        entry = (character,count)\n",
    "        lst.append(entry)\n",
    "        return lst\n",
    " \n",
    "def decode(lst):\n",
    "    q = \"\"\n",
    "    for character, count in lst:\n",
    "        q += character * count\n",
    "    return q"
   ]
  },
  {
   "cell_type": "code",
   "execution_count": 275,
   "metadata": {},
   "outputs": [
    {
     "name": "stdout",
     "output_type": "stream",
     "text": [
      "222216.0\n",
      "222180.0\n",
      "222207.0\n",
      "222225.0\n",
      "222198.0\n",
      "222234.0\n",
      "222216.0\n",
      "222207.0\n",
      "222225.0\n",
      "222198.0\n"
     ]
    }
   ],
   "source": [
    "# Part 2 \n",
    "N = 10000\n",
    "R = 2**30\n",
    "m = 10\n",
    "m = 30 - m\n",
    "\n",
    "# 32 bits in order [0..7][8..15][16..23][24..31] --> \n",
    "def shuffle(x):   return np.concatenate((x[:,24:32], x[:,16:24], x[:,8:16], x[:,0:8]), axis=1)\n",
    "def unshuffle(x): return np.concatenate((x[:,24:32], x[:,16:24], x[:,8:16], x[:,0:8]), axis=1)\n",
    "\n",
    "# 32-bit integers to bits\n",
    "for i in range(10):\n",
    "    nums = get_nums(N, R)\n",
    "    bits = np.unpackbits(nums.view(np.uint8)).reshape(N, 32)\n",
    "    bits = shuffle(bits)\n",
    "    bits_lower = bits[:,-m:]\n",
    "    bits_upper = bits[:,:-m]\n",
    "    bits_upper = bits_upper[:,2:] # remove \n",
    "    # we can recover our original bits with:\n",
    "    # bits = unshuffle(np.concatenate((bits_upper, bits_lower), axis=1))\n",
    "    \n",
    "    # Convert upper bits to string and run-length encode\n",
    "    string_upper = str(list(bits_upper.T.flatten()))[1:-1].replace(' ','').replace(',','')\n",
    "    string_upper_encoded = encode(string_upper)\n",
    "    \n",
    "    # Compute number of bytes needed to send run-length encoded upper bits\n",
    "    bits_per_rle_element = np.ceil(1 + np.log2(1+max(x[1] for x in string_upper_encoded)))\n",
    "    upper_send = bits_per_rle_element * len(string_upper_encoded)\n",
    "    lower_send = bits_lower.size\n",
    "    \n",
    "    # Total number of bits\n",
    "    total_send = upper_send + lower_send + 4\n",
    "    print(total_send)"
   ]
  },
  {
   "cell_type": "code",
   "execution_count": null,
   "metadata": {},
   "outputs": [],
   "source": []
  }
 ],
 "metadata": {
  "kernelspec": {
   "display_name": "Python 3",
   "language": "python",
   "name": "python3"
  },
  "language_info": {
   "codemirror_mode": {
    "name": "ipython",
    "version": 3
   },
   "file_extension": ".py",
   "mimetype": "text/x-python",
   "name": "python",
   "nbconvert_exporter": "python",
   "pygments_lexer": "ipython3",
   "version": "3.7.0"
  }
 },
 "nbformat": 4,
 "nbformat_minor": 2
}
