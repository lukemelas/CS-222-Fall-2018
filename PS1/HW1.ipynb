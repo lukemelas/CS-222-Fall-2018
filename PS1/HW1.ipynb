{
 "cells": [
  {
   "cell_type": "markdown",
   "metadata": {},
   "source": [
    "#### Problem 1"
   ]
  },
  {
   "cell_type": "code",
   "execution_count": 229,
   "metadata": {},
   "outputs": [],
   "source": [
    "import itertools, random\n",
    "\n",
    "import numpy as np\n",
    "from numpy.linalg import matrix_power as matpow\n",
    "from numpy.linalg import eig as mateig\n",
    "\n",
    "import matplotlib\n",
    "import matplotlib.pyplot as plt\n",
    "\n",
    "matplotlib.rcParams['figure.figsize'] = 11, 8.5"
   ]
  },
  {
   "cell_type": "code",
   "execution_count": 230,
   "metadata": {},
   "outputs": [],
   "source": [
    "def get_fib(dim):\n",
    "    '''Returns generalized Fibonacci matrix M and starting vector v'''\n",
    "    M = [[1]*dim] + [[0]*i+[1]+[0]*(dim-i-1) for i in range(dim-1)]\n",
    "    v = [1] + [0] * (dim-1)\n",
    "    return np.array(M), np.array(v)"
   ]
  },
  {
   "cell_type": "code",
   "execution_count": 231,
   "metadata": {},
   "outputs": [
    {
     "name": "stdout",
     "output_type": "stream",
     "text": [
      "Largest eigevalue (d=2): 1.618033988749895\n",
      "Largest eigevalue (d=3): 1.839286755214161\n",
      "Largest eigevalue (d=4): 1.927561975482925\n",
      "Largest eigevalue (d=5): 1.965948236645486\n"
     ]
    }
   ],
   "source": [
    "# Check: matpow(get_fib(3)[0], 5).dot(np.array([1,0,0]))\n",
    "for dim in [2,3,4,5]:\n",
    "    eig = mateig(get_fib(dim)[0])[0].max().real\n",
    "    print('Largest eigevalue (d={}): {}'.format(dim, eig))"
   ]
  },
  {
   "cell_type": "code",
   "execution_count": 232,
   "metadata": {},
   "outputs": [],
   "source": [
    "# TODO: calculate asymptotic growth rates"
   ]
  },
  {
   "cell_type": "markdown",
   "metadata": {},
   "source": [
    "#### Problem 2"
   ]
  },
  {
   "cell_type": "code",
   "execution_count": 311,
   "metadata": {
    "collapsed": true
   },
   "outputs": [
    {
     "name": "stdout",
     "output_type": "stream",
     "text": [
      "Stationary distribution:  [[0.28150134 0.14745308 0.31367292 0.25737265]]\n",
      "Distribution after 10 steps:   [0.28148165 0.14746332 0.31348351 0.25757151]\n",
      "Distribution after 100 steps:  [0.28150134 0.14745308 0.31367292 0.25737265]\n",
      "Step  1: TVD = 0.20483, Over [1e-2, 1e-3, 1e-4]: False, False, False\n",
      "Step  2: TVD = 0.09113, Over [1e-2, 1e-3, 1e-4]: False, False, False\n",
      "Step  3: TVD = 0.05083, Over [1e-2, 1e-3, 1e-4]: False, False, False\n",
      "Step  4: TVD = 0.01813, Over [1e-2, 1e-3, 1e-4]: False, False, False\n",
      "Step  5: TVD = 0.01065, Over [1e-2, 1e-3, 1e-4]: False, False, False\n",
      "Step  6: TVD = 0.00377, Over [1e-2, 1e-3, 1e-4]: True, False, False\n",
      "Step  7: TVD = 0.00226, Over [1e-2, 1e-3, 1e-4]: True, False, False\n",
      "Step  8: TVD = 0.00088, Over [1e-2, 1e-3, 1e-4]: True, True, False\n",
      "Step  9: TVD = 0.00049, Over [1e-2, 1e-3, 1e-4]: True, True, False\n",
      "Step 10: TVD = 0.00021, Over [1e-2, 1e-3, 1e-4]: True, True, False\n",
      "Step 11: TVD = 0.00011, Over [1e-2, 1e-3, 1e-4]: True, True, False\n",
      "Step 12: TVD = 0.00005, Over [1e-2, 1e-3, 1e-4]: True, True, True\n",
      "Step 13: TVD = 0.00002, Over [1e-2, 1e-3, 1e-4]: True, True, True\n",
      "Step 14: TVD = 0.00001, Over [1e-2, 1e-3, 1e-4]: True, True, True\n",
      "Step 15: TVD = 0.00001, Over [1e-2, 1e-3, 1e-4]: True, True, True\n",
      "Step 16: TVD = 0.00000, Over [1e-2, 1e-3, 1e-4]: True, True, True\n",
      "Step 17: TVD = 0.00000, Over [1e-2, 1e-3, 1e-4]: True, True, True\n",
      "Step 18: TVD = 0.00000, Over [1e-2, 1e-3, 1e-4]: True, True, True\n",
      "Step 19: TVD = 0.00000, Over [1e-2, 1e-3, 1e-4]: True, True, True\n",
      "Step 20: TVD = 0.00000, Over [1e-2, 1e-3, 1e-4]: True, True, True\n",
      "Step 21: TVD = 0.00000, Over [1e-2, 1e-3, 1e-4]: True, True, True\n",
      "Step 22: TVD = 0.00000, Over [1e-2, 1e-3, 1e-4]: True, True, True\n",
      "Step 23: TVD = 0.00000, Over [1e-2, 1e-3, 1e-4]: True, True, True\n",
      "Step 24: TVD = 0.00000, Over [1e-2, 1e-3, 1e-4]: True, True, True\n",
      "Step 25: TVD = 0.00000, Over [1e-2, 1e-3, 1e-4]: True, True, True\n",
      "Step 26: TVD = 0.00000, Over [1e-2, 1e-3, 1e-4]: True, True, True\n",
      "Step 27: TVD = 0.00000, Over [1e-2, 1e-3, 1e-4]: True, True, True\n",
      "Step 28: TVD = 0.00000, Over [1e-2, 1e-3, 1e-4]: True, True, True\n",
      "Step 29: TVD = 0.00000, Over [1e-2, 1e-3, 1e-4]: True, True, True\n",
      "Step 30: TVD = 0.00000, Over [1e-2, 1e-3, 1e-4]: True, True, True\n"
     ]
    },
    {
     "data": {
      "image/png": "[encoded data removed]",
      "text/plain": [
       "<Figure size 792x612 with 1 Axes>"
      ]
     },
     "metadata": {
      "needs_background": "light"
     },
     "output_type": "display_data"
    },
    {
     "name": "stdout",
     "output_type": "stream",
     "text": [
      "Is TVD decreasing?\n",
      "[ True  True  True  True  True  True  True  True  True  True  True  True\n",
      "  True  True  True  True  True  True  True  True  True  True  True  True\n",
      "  True  True  True  True  True]\n"
     ]
    }
   ],
   "source": [
    "M = np.array([[0.3, 0.0, 0.5, 0.2],\n",
    "              [0.0, 0.4, 0.3, 0.3],\n",
    "              [0.3, 0.2, 0.0, 0.5],\n",
    "              [0.4, 0.1, 0.5, 0.0]])\n",
    "\n",
    "def dist_after_steps(M, v, t):\n",
    "    '''Returns distribution after t steps of M, starting from v'''\n",
    "    return v @ matpow(M, t)\n",
    "\n",
    "def stationary(M):\n",
    "    '''Returns the stationary distribution of a matrix'''\n",
    "    evals, evecs = mateig(M.T)\n",
    "    principal_evec = evecs.T[np.abs(evals - 1.0) < 1e-5]\n",
    "    return principal_evec / principal_evec.sum()\n",
    "\n",
    "# Print stationary distribution\n",
    "pi = stationary(M)\n",
    "print('Stationary distribution: ', pi)\n",
    "\n",
    "# Print distributions starting from a\n",
    "print('Distribution after 10 steps:  ', dist_after_steps(M, np.array([1.,0.,0.,0.]), 10))\n",
    "print('Distribution after 100 steps: ', dist_after_steps(M, np.array([1.,0.,0.,0.]), 100))\n",
    "\n",
    "# This is O(n^2), but n is small enought that this does not matter\n",
    "tvds = []\n",
    "steps = 30\n",
    "for t in range(1, steps+1):\n",
    "    d_current = dist_after_steps(M, np.array([1.,0.,0.,0.]), t) \n",
    "    tvd = 0.5 * np.sum(np.abs(d_current - pi))                          \n",
    "    tvds.append(tvd) # for plotting\n",
    "    print('Step {:2d}: TVD = {:.5f}, Over [1e-2, 1e-3, 1e-4]: {}, {}, {}'.format(\n",
    "          t, tvd, tvd.item() < 1e-2, tvd.item() < 1e-3, tvd.item() < 1e-4))\n",
    "plt.scatter(np.arange(steps), tvds)\n",
    "plt.show()\n",
    "\n",
    "print('Is TVD decreasing?')\n",
    "print(np.array(tvds)[:-1] - np.array(tvds)[1:] > 0)"
   ]
  },
  {
   "cell_type": "markdown",
   "metadata": {},
   "source": [
    "#### Problem 3"
   ]
  },
  {
   "cell_type": "code",
   "execution_count": 169,
   "metadata": {},
   "outputs": [],
   "source": [
    "# Set up transition matrix, surfer probability\n",
    "M = np.array([[0, 0, 1, 1, 1, 0,],\n",
    "             [0, 0, 1, 0, 1, 0,],\n",
    "             [0, 0, 0, 1, 1, 0,],\n",
    "             [0, 1, 1, 0, 0, 0,],\n",
    "             [0, 0, 0, 0, 0, 1,],\n",
    "             [1, 0, 0, 0, 0, 0,],]).astype(np.float64)\n",
    "M = M / M.sum(axis=1).reshape(-1,1)\n",
    "E = np.ones(M.shape) / 6"
   ]
  },
  {
   "cell_type": "code",
   "execution_count": 170,
   "metadata": {},
   "outputs": [
    {
     "name": "stdout",
     "output_type": "stream",
     "text": [
      "Pagerank:  [0.18655087 0.0910788  0.18264338 0.15547953 0.19418802 0.19005983]\n",
      "HITS:  [0.19480519 0.07792208 0.18181818 0.15584416 0.19480519 0.19480519]\n"
     ]
    }
   ],
   "source": [
    "# Pagerank\n",
    "v = np.ones(6)\n",
    "for t in range(100):\n",
    "    v = 0.85 * np.matmul(v, M) + 0.15 * np.ones(6) / 6\n",
    "print('Pagerank: ', v) # or alternatively: stationary(0.85 * M + 0.15 * E)\n",
    "\n",
    "# HITS\n",
    "x = np.ones(6) # authorities\n",
    "y = np.ones(6) # hubs\n",
    "for t in range(50):\n",
    "    x = np.matmul(y, M)\n",
    "    y = np.matmul(x, M)\n",
    "    x = x / x.sum()\n",
    "    y = y / y.sum()\n",
    "print('HITS: ', x)"
   ]
  },
  {
   "cell_type": "markdown",
   "metadata": {},
   "source": [
    "#### Problem 4\n",
    "This problem is a proof."
   ]
  },
  {
   "cell_type": "markdown",
   "metadata": {},
   "source": [
    "#### Problem 5"
   ]
  },
  {
   "cell_type": "code",
   "execution_count": 193,
   "metadata": {},
   "outputs": [
    {
     "name": "stdout",
     "output_type": "stream",
     "text": [
      "Footrule:  180\n",
      "Kendall:   125\n"
     ]
    }
   ],
   "source": [
    "# Footrule and Kendall distances\n",
    "s1 = 'qwertyuiopasdfghjklzxcvbnm'\n",
    "s2 = 'etaonihsrdlumwcfgypbvkqxjz'\n",
    "\n",
    "footrule = sum(abs(s1.index(x) - s2.index(x)) for x in s1)\n",
    "kendall = sum((s1.index(x) < s1.index(y)) != (s2.index(x) < s2.index(y)) for x,y in itertools.combinations(s1, 2))\n",
    "\n",
    "print('Footrule: ', footrule)\n",
    "print('Kendall:  ', kendall)"
   ]
  },
  {
   "cell_type": "code",
   "execution_count": 265,
   "metadata": {},
   "outputs": [],
   "source": [
    "symbols = 'ABCDEF'\n",
    "symbols = {symbols[i]: i for i in range(len(symbols))}\n",
    "partial_ranking = ['ABCD','DFEC','BEFA','BCDE','CFAB','AEFD']\n",
    "\n",
    "def mc3(partial_ranking, symbols):\n",
    "    '''Compute the MC3 matrix from Dwork et al., page 619'''\n",
    "    matrix = np.zeros((6,6))\n",
    "    for s in symbols:\n",
    "        rs = [r for r in partial_ranking if s in r]\n",
    "        for r in rs:\n",
    "            matrix_update = 1 / len(rs) / len(r)\n",
    "            for i in range(0, r.index(s)): # rank better\n",
    "                matrix[symbols[s], symbols[r[i]]] += matrix_update\n",
    "            for i in range(r.index(s), len(r)):\n",
    "                matrix[symbols[s], symbols[s]] += matrix_update\n",
    "    return matrix\n",
    "\n",
    "def mc4(partial_ranking, symbols):\n",
    "    '''Compute the MC4 matrix from Dwork et al., page 619'''\n",
    "    matrix = np.zeros((6,6))\n",
    "    matrix_update = 1 / len(symbols)\n",
    "    for s1 in symbols: \n",
    "        for s2 in symbols:\n",
    "            s1_higher = sum(r.index(s1) < r.index(s2) for r in partial_ranking if s1 in r and s2 in r)\n",
    "            s2_higher = sum(r.index(s2) < r.index(s1) for r in partial_ranking if s1 in r and s2 in r)\n",
    "            if s2_higher > s1_higher:\n",
    "                matrix[symbols[s1], symbols[s2]] += matrix_update\n",
    "            else:\n",
    "                matrix[symbols[s1], symbols[s1]] += matrix_update\n",
    "    return matrix"
   ]
  },
  {
   "cell_type": "code",
   "execution_count": 313,
   "metadata": {
    "scrolled": true
   },
   "outputs": [
    {
     "name": "stdout",
     "output_type": "stream",
     "text": [
      "MC3:  [[0.22273158+0.j 0.26709875+0.j 0.15275582+0.j 0.06929076+0.j\n",
      "  0.11344715+0.j 0.17467594+0.j]]\n",
      "MC4:  [[0.27272727-0.j 0.22727273-0.j 0.04545455-0.j 0.04545455-0.j\n",
      "  0.13636364-0.j 0.27272727-0.j]]\n"
     ]
    }
   ],
   "source": [
    "print('MC3: ', stationary(mc3(partial_ranking, symbols)))\n",
    "print('MC4: ', stationary(mc4(partial_ranking, symbols)))"
   ]
  },
  {
   "cell_type": "markdown",
   "metadata": {},
   "source": [
    "#### Problem 6\n",
    "This problem is a proof."
   ]
  },
  {
   "cell_type": "markdown",
   "metadata": {},
   "source": [
    "#### Problem 7"
   ]
  },
  {
   "cell_type": "code",
   "execution_count": 185,
   "metadata": {},
   "outputs": [],
   "source": [
    "def g_graph(vertices, edges):\n",
    "    '''Constructs G_{n,m} graph with n vertices, m edges'''\n",
    "    matrix = np.zeros((vertices, vertices)).astype(bool)\n",
    "    while(edges > 0):\n",
    "        x = random.randint(0, vertices-1)\n",
    "        y = random.randint(0, vertices-1)\n",
    "        if not matrix[x,y] and x != y:\n",
    "            matrix[x,y] = matrix[y,x] = True\n",
    "            edges -= 1\n",
    "    return matrix.astype(int)\n",
    "\n",
    "def z_graph(vertices, edges):\n",
    "    '''Constructs Z_{n,m} graph with n vertices, m edges. Idea\n",
    "       is to factor p(x,y) = p(x) p(y|x) and draw sequentially.'''\n",
    "    edge_matrix = np.zeros((vertices, vertices)).astype(bool)\n",
    "    prob_matrix = np.ones((vertices, vertices)).astype(int)\n",
    "    choice = np.arange(vertices)\n",
    "    while(edges > 0):\n",
    "        x_prob = prob_matrix.sum(axis=1) / prob_matrix.sum()\n",
    "        x = np.random.choice(choice, p=x_prob)\n",
    "        y_prob = prob_matrix[x,:] / prob_matrix[x,:].sum()\n",
    "        y = np.random.choice(choice, p=y_prob)\n",
    "        if not edge_matrix[x,y] and x != y:\n",
    "            prob_matrix[x,:] += 1\n",
    "            prob_matrix[:,y] += 1\n",
    "            prob_matrix[y,:] += 1\n",
    "            prob_matrix[:,x] += 1\n",
    "            edge_matrix[x,y] = edge_matrix[y,x] = True\n",
    "            edges -= 1\n",
    "    return edge_matrix.astype(int)\n",
    "\n",
    "def num_trianges(adj_matrix):\n",
    "    '''The number of trianges is the trace of M^3 divided\n",
    "       by 6, where M is the adjacency matrix of the graph.'''\n",
    "    return np.sum(matpow(adj_matrix, 3) * np.eye(adj_matrix.shape[0])) / 6"
   ]
  },
  {
   "cell_type": "code",
   "execution_count": 197,
   "metadata": {},
   "outputs": [
    {
     "name": "stdout",
     "output_type": "stream",
     "text": [
      "Total trianges with (100,250) g_graph:  20.09\n",
      "Total trianges with (100,250) z_graph:  39.51\n",
      "Total trianges with (1000,5000) g_graph:  169.09\n",
      "Total trianges with (1000,5000) z_graph:  283.62\n"
     ]
    }
   ],
   "source": [
    "# Compute average number of trianges with a (100,250) graph\n",
    "samples = 100\n",
    "total_trianges_g = 0\n",
    "total_trianges_z = 0\n",
    "for i in range(samples):\n",
    "    G = g_graph(100,250)\n",
    "    Z = z_graph(100,250)\n",
    "    total_trianges_g += num_trianges(G)\n",
    "    total_trianges_z += num_trianges(Z)\n",
    "avg_trianges_g = total_trianges_g / samples\n",
    "avg_trianges_z = total_trianges_z / samples\n",
    "\n",
    "print('Total trianges with (100,250) g_graph: ', avg_trianges_g)\n",
    "print('Total trianges with (100,250) z_graph: ', avg_trianges_z)\n",
    "\n",
    "# Compute average number of trianges with a (1000, 5000) graph\n",
    "samples = 100\n",
    "total_trianges_g = 0\n",
    "total_trianges_z = 0\n",
    "for i in range(samples):\n",
    "    G = g_graph(1000,5000)\n",
    "    Z = z_graph(1000,5000)\n",
    "    total_trianges_g += num_trianges(G)\n",
    "    total_trianges_z += num_trianges(Z)\n",
    "avg_trianges_g = total_trianges_g / samples\n",
    "avg_trianges_z = total_trianges_z / samples\n",
    "\n",
    "print('Total trianges with (1000,5000) g_graph: ', avg_trianges_g)\n",
    "print('Total trianges with (1000,5000) z_graph: ', avg_trianges_z)"
   ]
  },
  {
   "cell_type": "code",
   "execution_count": null,
   "metadata": {},
   "outputs": [],
   "source": []
  }
 ],
 "metadata": {
  "kernelspec": {
   "display_name": "Python 3",
   "language": "python",
   "name": "python3"
  },
  "language_info": {
   "codemirror_mode": {
    "name": "ipython",
    "version": 3
   },
   "file_extension": ".py",
   "mimetype": "text/x-python",
   "name": "python",
   "nbconvert_exporter": "python",
   "pygments_lexer": "ipython3",
   "version": "3.7.0"
  }
 },
 "nbformat": 4,
 "nbformat_minor": 2
}
