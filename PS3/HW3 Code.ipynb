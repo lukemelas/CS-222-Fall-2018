{
 "cells": [
  {
   "cell_type": "markdown",
   "metadata": {},
   "source": [
    "## CS 222 Problem Set 3 Code"
   ]
  },
  {
   "cell_type": "markdown",
   "metadata": {},
   "source": [
    "#### Libraries"
   ]
  },
  {
   "cell_type": "code",
   "execution_count": 139,
   "metadata": {},
   "outputs": [],
   "source": [
    "import random\n",
    "import numpy as np\n",
    "import matplotlib.pyplot as plt\n",
    "plt.rcParams['figure.figsize'] = (10,4)"
   ]
  },
  {
   "cell_type": "markdown",
   "metadata": {},
   "source": [
    "#### Problem 3"
   ]
  },
  {
   "cell_type": "code",
   "execution_count": 198,
   "metadata": {
    "scrolled": false
   },
   "outputs": [
    {
     "data": {
      "text/plain": [
       "(array([  8.,  18.,  35.,  55., 100., 162., 214., 247., 131.,  30.]),\n",
       " array([ 2026. ,  3200.3,  4374.6,  5548.9,  6723.2,  7897.5,  9071.8,\n",
       "        10246.1, 11420.4, 12594.7, 13769. ]),\n",
       " <a list of 10 Patch objects>)"
      ]
     },
     "execution_count": 198,
     "metadata": {},
     "output_type": "execute_result"
    },
    {
     "data": {
      "image/png": "[encoded data removed]",
      "text/plain": [
       "<Figure size 720x288 with 1 Axes>"
      ]
     },
     "metadata": {
      "needs_background": "light"
     },
     "output_type": "display_data"
    }
   ],
   "source": [
    "def cuckoo(table, hash_table, value, counter):\n",
    "    '''We are writing value to the table by looking up its two \n",
    "       locations in hash_table.'''\n",
    "    if counter >= 100: return 100 # break recursion\n",
    "    \n",
    "    # Check if value has already been hashed\n",
    "    if value not in hash_table: \n",
    "        h1 = random.randint(0,32767)\n",
    "        h2 = random.randint(0,32767)\n",
    "        hash_table[value] = (h1, h2)\n",
    "\n",
    "    # Extract from hash table\n",
    "    h1, h2 = hash_table[value]\n",
    "\n",
    "    # Check if in table\n",
    "    if table[h1] == 0: \n",
    "        table[h1] = value\n",
    "        return counter\n",
    "    elif table[h2] == 0: \n",
    "        table[h2] = value\n",
    "        return counter\n",
    "    else:\n",
    "        # If both are full, kick one out\n",
    "        h = h1 if random.random() < 0.5 else h2\n",
    "        new_value = table[h]\n",
    "        table[h] = value\n",
    "        return cuckoo(table, hash_table, new_value, counter + 1)\n",
    "\n",
    "# Run until we cannot add an element\n",
    "def experiment():\n",
    "    table = [0] * 32768\n",
    "    \n",
    "    # Loop\n",
    "    i=0\n",
    "    hash_table = {}\n",
    "    while(True):\n",
    "        i+=1\n",
    "        \n",
    "        # Generate value to put in rable\n",
    "        value = random.randint(0,1000000)\n",
    "        \n",
    "        # Place in table\n",
    "        if cuckoo(table, hash_table, value, 0) >= 100:\n",
    "            break\n",
    "            \n",
    "    return table\n",
    "\n",
    "# Run 1000 experiments\n",
    "num_filled_entries = []\n",
    "for _ in range(1000):\n",
    "    num_filled_entries.append(sum(1 for x in experiment() if x != 0))"
   ]
  },
  {
   "cell_type": "code",
   "execution_count": 299,
   "metadata": {},
   "outputs": [
    {
     "data": {
      "image/png": "[encoded data removed]",
      "text/plain": [
       "<Figure size 720x288 with 1 Axes>"
      ]
     },
     "metadata": {
      "needs_background": "light"
     },
     "output_type": "display_data"
    }
   ],
   "source": [
    "plt.hist(num_filled_entries, bins=50)\n",
    "plt.title('Histogram of number of inserts before an element cannot be placed (2 hash functions)')\n",
    "plt.ylabel('Occurances')\n",
    "plt.xlabel('Number of inserts')\n",
    "plt.show()"
   ]
  },
  {
   "cell_type": "code",
   "execution_count": 297,
   "metadata": {},
   "outputs": [],
   "source": [
    "def cuckoo3(table, hash_table, value, counter):\n",
    "    '''We are writing value to the table by looking up its two \n",
    "       locations in hash_table.'''\n",
    "    if counter >= 100: return 100 # break recursion\n",
    "    \n",
    "    # Check if value has already been hashed\n",
    "    if value not in hash_table: \n",
    "        h1 = random.randint(0,32767)\n",
    "        h2 = random.randint(0,32767)\n",
    "        h3 = random.randint(0,32767)\n",
    "        hash_table[value] = (h1, h2, h3)\n",
    "\n",
    "    # Extract from hash table\n",
    "    h1, h2, h3 = hash_table[value]\n",
    "\n",
    "    # Check if in table\n",
    "    if table[h1] == 0: \n",
    "        table[h1] = value\n",
    "        return counter\n",
    "    elif table[h2] == 0: \n",
    "        table[h2] = value\n",
    "        return counter\n",
    "    elif table[h3] == 0: \n",
    "        table[h3] = value\n",
    "        return counter\n",
    "    else:\n",
    "        # If both are full, kick one out\n",
    "        r = random.random()\n",
    "        h = h1 if r < 0.33 else (h2 if r < 0.66 else h3)\n",
    "        new_value = table[h]\n",
    "        table[h] = value\n",
    "        return cuckoo3(table, hash_table, new_value, counter + 1)\n",
    "\n",
    "# Run until we cannot add an element\n",
    "def experiment():\n",
    "    table = [0] * 32768\n",
    "    \n",
    "    # Loop\n",
    "    i=0\n",
    "    hash_table = {}\n",
    "    while(True):\n",
    "        i+=1\n",
    "        \n",
    "        # Generate value to put in rable\n",
    "        value = random.randint(0,1000000)\n",
    "        \n",
    "        # Place in table\n",
    "        if cuckoo3(table, hash_table, value, 0) >= 100:\n",
    "            break\n",
    "            \n",
    "    return table\n",
    "\n",
    "# Run 1000 experiments\n",
    "num_filled_entries_3 = []\n",
    "for _ in range(1000):\n",
    "    num_filled_entries_3.append(sum(1 for x in experiment() if x != 0))"
   ]
  },
  {
   "cell_type": "code",
   "execution_count": 301,
   "metadata": {},
   "outputs": [
    {
     "data": {
      "image/png": "[encoded data removed]",
      "text/plain": [
       "<Figure size 720x288 with 1 Axes>"
      ]
     },
     "metadata": {
      "needs_background": "light"
     },
     "output_type": "display_data"
    }
   ],
   "source": [
    "plt.hist(num_filled_entries_3, bins=65)\n",
    "plt.title('Histogram of number of inserts before an element cannot be placed (3 hash functions)')\n",
    "plt.ylabel('Occurances')\n",
    "plt.xlabel('Number of inserts')\n",
    "plt.show()"
   ]
  },
  {
   "cell_type": "code",
   "execution_count": 295,
   "metadata": {},
   "outputs": [
    {
     "data": {
      "text/plain": [
       "9413.436"
      ]
     },
     "execution_count": 295,
     "metadata": {},
     "output_type": "execute_result"
    }
   ],
   "source": [
    "# Average\n",
    "sum(num_filled_entries) / len(num_filled_entries)"
   ]
  },
  {
   "cell_type": "code",
   "execution_count": 296,
   "metadata": {},
   "outputs": [
    {
     "data": {
      "text/plain": [
       "26025.355"
      ]
     },
     "execution_count": 296,
     "metadata": {},
     "output_type": "execute_result"
    }
   ],
   "source": [
    "# Average \n",
    "sum(num_filled_entries_3) / len(num_filled_entries_3)"
   ]
  },
  {
   "cell_type": "code",
   "execution_count": 307,
   "metadata": {},
   "outputs": [],
   "source": [
    "# More experiments!\n",
    "table = [0] * 32768\n",
    "\n",
    "# Loop\n",
    "i=0\n",
    "hash_table = {}\n",
    "xs = []\n",
    "while(True):\n",
    "    i+=1\n",
    "\n",
    "    # Generate value to put in rable\n",
    "    value = random.randint(0,1000000)\n",
    "\n",
    "    # Place in table\n",
    "    x = cuckoo3(table, hash_table, value, 0)\n",
    "    xs.append(x)\n",
    "    if x >= 100:\n",
    "        break"
   ]
  },
  {
   "cell_type": "code",
   "execution_count": 310,
   "metadata": {},
   "outputs": [
    {
     "data": {
      "text/plain": [
       "[<matplotlib.lines.Line2D at 0x7f910eacd0b8>]"
      ]
     },
     "execution_count": 310,
     "metadata": {},
     "output_type": "execute_result"
    },
    {
     "data": {
      "image/png": "[encoded data removed]",
      "text/plain": [
       "<Figure size 720x288 with 1 Axes>"
      ]
     },
     "metadata": {
      "needs_background": "light"
     },
     "output_type": "display_data"
    }
   ],
   "source": [
    "plt.title('Number of insert \"kicks\" vs insert number (1 trial)')\n",
    "plt.ylabel('Number of kicks')\n",
    "plt.xlabel('Inserted elements')\n",
    "plt.plot(xs)"
   ]
  },
  {
   "cell_type": "markdown",
   "metadata": {},
   "source": [
    "#### Problem 4 "
   ]
  },
  {
   "cell_type": "code",
   "execution_count": 278,
   "metadata": {},
   "outputs": [],
   "source": [
    "def get_stream():\n",
    "    stream = []\n",
    "    \n",
    "    # Add cold elements\n",
    "    for i in range(1,10): \n",
    "        for k in range(1000*(i-1)+1, 1000*i+1):\n",
    "            for _ in range(i):\n",
    "                stream.append(k)\n",
    "\n",
    "    # Add hot elements\n",
    "    for i in range(1,101): \n",
    "        k = 9000 + i\n",
    "        for _ in range(i*i):\n",
    "            stream.append(k)\n",
    "            \n",
    "    print('Stream is length', len(stream))\n",
    "    return stream \n",
    "\n",
    "def perform_cm_sketch(stream, conservative_update):\n",
    "    \n",
    "    hash_maps = [{}, {}, {}, {}] # will store map from i --> hash_loc\n",
    "    hash_tables = [[0]*500, [0]*500, [0]*500, [0]*500] # will store counter\n",
    "\n",
    "    # Generate hashes\n",
    "    for i in set(stream):\n",
    "        for j in range(4):\n",
    "            h = random.randint(1,499)\n",
    "            hash_maps[j][i] = h\n",
    "\n",
    "    # Add items \n",
    "    for i in stream:\n",
    "\n",
    "        # Extract hashes\n",
    "        hs = [hash_maps[j][i] for j in range(4)]\n",
    "        min_counter = min(hash_tables[j][hs[j]] for j in range(4))\n",
    "\n",
    "        # Increment counter\n",
    "        for j in range(4):\n",
    "            if not conservative_update or hash_tables[j][hs[j]] == min_counter:\n",
    "                hash_tables[j][hs[j]] += 1\n",
    "    \n",
    "    return hash_maps, hash_tables\n",
    "\n",
    "def get_statistics(stream, hash_maps, hash_tables):\n",
    "    # Check how many elements may be responsible for >= 1% of total load\n",
    "    n_elems = 0\n",
    "    for i in set(stream):\n",
    "        hs = [hash_maps[j][i] for j in range(4)]\n",
    "        min_counter = min(hash_tables[j][hs[j]] for j in range(4))\n",
    "        if min_counter > len(stream) * 0.01:\n",
    "            n_elems += 1\n",
    "    # print('Above 1% estimate: ', n_elems)\n",
    "\n",
    "    # Check the value of 9100\n",
    "    hs = [hash_maps[j][9100] for j in range(4)]\n",
    "    est_9100 = min(hash_tables[j][hs[j]] for j in range(4))\n",
    "    # print('9100 estimate:     ', min_counter)\n",
    "    \n",
    "    return n_elems, est_9100"
   ]
  },
  {
   "cell_type": "code",
   "execution_count": 289,
   "metadata": {},
   "outputs": [
    {
     "name": "stdout",
     "output_type": "stream",
     "text": [
      "Stream is length 383350\n",
      "39.33\n",
      "10000.0\n"
     ]
    }
   ],
   "source": [
    "# Parameters\n",
    "conservative = True\n",
    "stream = get_stream()\n",
    "random.shuffle(stream)\n",
    "\n",
    "# Experiment\n",
    "N = 100\n",
    "n_elems_total, est_9100_total = 0, 0\n",
    "for i in range(N):\n",
    "    hm, ht = perform_cm_sketch(stream, conservative)\n",
    "    n_elems, est_9100 = get_statistics(stream, hm, ht)\n",
    "    n_elems_total += n_elems\n",
    "    est_9100_total += est_9100\n",
    "print(n_elems_total / N)\n",
    "print(est_9100_total /  N)"
   ]
  },
  {
   "cell_type": "code",
   "execution_count": 283,
   "metadata": {},
   "outputs": [
    {
     "name": "stdout",
     "output_type": "stream",
     "text": [
      "Exact number of elements above 1%: 38\n"
     ]
    }
   ],
   "source": [
    "correct_n_elems = sum(1 for i in range(100) if i*i >= len(stream) * 0.01)\n",
    "print('Exact number of elements above 1%:', correct_n_elems)"
   ]
  },
  {
   "cell_type": "markdown",
   "metadata": {},
   "source": [
    "#### Problem 5"
   ]
  },
  {
   "cell_type": "code",
   "execution_count": 141,
   "metadata": {},
   "outputs": [
    {
     "data": {
      "text/plain": [
       "<matplotlib.legend.Legend at 0x7f910e786b00>"
      ]
     },
     "execution_count": 141,
     "metadata": {},
     "output_type": "execute_result"
    },
    {
     "data": {
      "image/png": "[encoded data removed]",
      "text/plain": [
       "<Figure size 720x288 with 1 Axes>"
      ]
     },
     "metadata": {
      "needs_background": "light"
     },
     "output_type": "display_data"
    }
   ],
   "source": [
    "# Error function\n",
    "from scipy.special import binom\n",
    "def p_error(k, p):\n",
    "    return sum(binom(2*k+1, i) * (p**i * (1-p)**(2*k+1-i)) for i in range(k+1,2*(k+1))) \n",
    "\n",
    "# Calculate errors for different values of k\n",
    "x = np.arange(0.01,0.1,0.001)\n",
    "ys = np.stack([p_error(k, x) for k in range(1,7)], axis=1)\n",
    "\n",
    "# Plot\n",
    "plt.title('Probability of Bob making an error vs p(bit flip)')\n",
    "plt.ylabel('Probability of Bob making an error')\n",
    "plt.xlabel('p(bit flip)')\n",
    "plt.plot(x,ys)\n",
    "plt.legend(['k='+str(k) for k in range(1,7)])"
   ]
  },
  {
   "cell_type": "markdown",
   "metadata": {},
   "source": [
    "#### Problem 6 "
   ]
  },
  {
   "cell_type": "code",
   "execution_count": 42,
   "metadata": {},
   "outputs": [
    {
     "name": "stdout",
     "output_type": "stream",
     "text": [
      "17 21 9 26\n",
      "quiz\n"
     ]
    }
   ],
   "source": [
    "def check(a0, a1, a2, a3):\n",
    "    '''Returns number of successful check given polynomial coefficients'''\n",
    "    total = 0\n",
    "    total += ((a0 + a1 + a2 + a3 ) % 29 == 15)\n",
    "    total += ((a0 + a1*2**1 + a2*2**2 + a3*2**3) % 29 == 13)\n",
    "    total += ((a0 + a1*3**1 + a2*3**2 + a3*3**3) % 29 == 33)\n",
    "    total += ((a0 + a1*4**1 + a2*4**2 + a3*4**3) % 29 == 24)\n",
    "    total += ((a0 + a1*5**1 + a2*5**2 + a3*5**3) % 29 ==  1)\n",
    "    total += ((a0 + a1*6**1 + a2*6**2 + a3*6**3) % 29 == 22)\n",
    "    return total\n",
    "\n",
    "# Let's try brute force\n",
    "from itertools import product\n",
    "for a0, a1, a2, a3 in product(range(29),range(29),range(29),range(29)):\n",
    "    if check(a0, a1, a2, a3) >= 5:\n",
    "        print(a0, a1, a2, a3)\n",
    "        alphabet = 'abcdefghijklmnopqrstuvwxyz'\n",
    "        print(''.join([alphabet[x-1] for x in [a0, a1, a2, a3]]))"
   ]
  }
 ],
 "metadata": {
  "kernelspec": {
   "display_name": "Python 3",
   "language": "python",
   "name": "python3"
  },
  "language_info": {
   "codemirror_mode": {
    "name": "ipython",
    "version": 3
   },
   "file_extension": ".py",
   "mimetype": "text/x-python",
   "name": "python",
   "nbconvert_exporter": "python",
   "pygments_lexer": "ipython3",
   "version": "3.7.0"
  }
 },
 "nbformat": 4,
 "nbformat_minor": 2
}
